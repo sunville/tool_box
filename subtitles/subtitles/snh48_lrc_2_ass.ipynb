{
 "cells": [
  {
   "cell_type": "code",
   "execution_count": 25,
   "id": "2d0ba689",
   "metadata": {},
   "outputs": [
    {
     "name": "stdout",
     "output_type": "stream",
     "text": [
      "File conversion completed.\n"
     ]
    }
   ],
   "source": [
    "# Import necessary module\n",
    "from datetime import timedelta\n",
    "\n",
    "# Open the input file in read mode and output file in write mode\n",
    "with open('a.txt', 'r', encoding='utf-8') as infile, open('b.txt', 'w', encoding='utf-8') as outfile:\n",
    "    # Process each line in the file\n",
    "    for line in infile:\n",
    "        # Skip lines without a ']'\n",
    "        if ']' not in line:\n",
    "            continue\n",
    "\n",
    "        # Split the line into timestamp and content\n",
    "        timestamp, content = line.split(']', 1)\n",
    "\n",
    "        # Remove the leading '[' from the timestamp\n",
    "        timestamp = timestamp[1:]\n",
    "\n",
    "        # Convert the timestamp to a timedelta object\n",
    "        timestamp_datetime = datetime.strptime(timestamp, \"%H:%M:%S.%f\")\n",
    "\n",
    "        # Extract the hours, minutes, and seconds\n",
    "        hours = timestamp_datetime.hour\n",
    "        minutes = timestamp_datetime.minute\n",
    "        seconds = timestamp_datetime.second\n",
    "        microseconds = timestamp_datetime.microsecond\n",
    "        total_minutes = hours * 60 + minutes\n",
    "        total_seconds = seconds + microseconds / 1e6\n",
    "\n",
    "        # Output in the format '[total_minutes:total_seconds.%2f]'\n",
    "        outfile.write(f'[{total_minutes}:{total_seconds:.2f}]{content}')\n",
    "\n",
    "\n",
    "print(\"File conversion completed.\")"
   ]
  },
  {
   "cell_type": "code",
   "execution_count": null,
   "id": "c59b8153",
   "metadata": {},
   "outputs": [],
   "source": []
  }
 ],
 "metadata": {
  "kernelspec": {
   "display_name": "Python 3 (ipykernel)",
   "language": "python",
   "name": "python3"
  },
  "language_info": {
   "codemirror_mode": {
    "name": "ipython",
    "version": 3
   },
   "file_extension": ".py",
   "mimetype": "text/x-python",
   "name": "python",
   "nbconvert_exporter": "python",
   "pygments_lexer": "ipython3",
   "version": "3.10.9"
  }
 },
 "nbformat": 4,
 "nbformat_minor": 5
}
