{
 "cells": [
  {
   "cell_type": "code",
   "execution_count": 7,
   "id": "7f4bb20d",
   "metadata": {},
   "outputs": [],
   "source": [
    "import datetime\n",
    "import random\n",
    "\n",
    "def convert_time(time_str):\n",
    "    # Convert the time string to a datetime object\n",
    "    time = datetime.datetime.strptime(time_str, \"%H:%M:%S.%f\")\n",
    "    return time\n",
    "\n",
    "def convert_back(time_obj):\n",
    "    # Convert the datetime object back to a string\n",
    "    time_str = time_obj.strftime(\"%H:%M:%S.%f\")[:-3]  # Cut off the last three digits to get back to the original precision\n",
    "    return time_str\n",
    "\n",
    "# Read the existing file\n",
    "with open('subtitles.ass', 'r', encoding='utf-8') as f:\n",
    "    lines = f.readlines()\n",
    "\n",
    "# Write the new file\n",
    "with open('subtitles_new.ass', 'w', encoding='utf-8') as f:\n",
    "    dialogue_counter = 0\n",
    "    for line in lines:\n",
    "        if line.startswith('Dialogue:'):\n",
    "            # Split the line into its components\n",
    "            parts = line.split(',')\n",
    "\n",
    "            # Adjust the end time\n",
    "            start_time = convert_time(parts[1])\n",
    "            end_time = start_time + datetime.timedelta(seconds=15)\n",
    "            parts[2] = convert_back(end_time)\n",
    "\n",
    "            # Change the Style value\n",
    "            parts[3] = \"RightMode1\"\n",
    "\n",
    "            # Change the MarginL, MarginR, MarginV values\n",
    "            parts[5] = \"20\"\n",
    "            parts[6] = \"20\"\n",
    "            parts[7] = \"2\"\n",
    "\n",
    "            # Change the Text value\n",
    "            x1 = random.randint(1920, 2100)\n",
    "            x2 = random.randint(-150, -20)\n",
    "            y = 30 * ((dialogue_counter % 20) + 1)  # y value cycles from 30 to 600 and then repeats\n",
    "            if len(parts[9].split('\\t')) > 1:\n",
    "                parts[9] = \"{\\\\move(%d,%d,%d,%d)}%s\" % (x1, y, x2, y, parts[9].split('\\t')[1])\n",
    "            else:\n",
    "                continue\n",
    "\n",
    "            # Recombine the line\n",
    "            line = ','.join(parts)\n",
    "\n",
    "            # Increment the dialogue counter\n",
    "            dialogue_counter += 1\n",
    "\n",
    "        # Write the line to the new file\n",
    "        f.write(line)"
   ]
  },
  {
   "cell_type": "code",
   "execution_count": null,
   "id": "3980f88e",
   "metadata": {},
   "outputs": [],
   "source": []
  }
 ],
 "metadata": {
  "kernelspec": {
   "display_name": "Python 3 (ipykernel)",
   "language": "python",
   "name": "python3"
  },
  "language_info": {
   "codemirror_mode": {
    "name": "ipython",
    "version": 3
   },
   "file_extension": ".py",
   "mimetype": "text/x-python",
   "name": "python",
   "nbconvert_exporter": "python",
   "pygments_lexer": "ipython3",
   "version": "3.10.9"
  }
 },
 "nbformat": 4,
 "nbformat_minor": 5
}
