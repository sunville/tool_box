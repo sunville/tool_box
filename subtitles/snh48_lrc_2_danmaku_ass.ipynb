{
 "cells": [
  {
   "cell_type": "code",
   "execution_count": 7,
   "id": "cd03f106",
   "metadata": {},
   "outputs": [],
   "source": [
    "# Import necessary module\n",
    "from datetime import timedelta\n",
    "from datetime import datetime\n",
    "import random\n",
    "# Open the input file in read mode and output file in write mode\n"
   ]
  },
  {
   "cell_type": "code",
   "execution_count": 8,
   "id": "43b55e54",
   "metadata": {},
   "outputs": [],
   "source": [
    "input_file = 'subtitles/a.lrc'\n",
    "output_file = 'result/a.ass'\n",
    "font_size = 30\n",
    "\n",
    "header_ass = f\n",
    "\"\"\"[Script Info]\n",
    "; This is an Advanced Sub Station Alpha v4+ script.\n",
    "Title: subtitles\n",
    "ScriptType: v4.00+\n",
    "Collisions: Normal\n",
    "PlayResX: 1920\n",
    "PlayResY: 1080\n",
    "WrapStyle: 0\n",
    "\n",
    "[V4+ Styles]\n",
    "Format: Name, Fontname, Fontsize, PrimaryColour, SecondaryColour, OutlineColour, BackColour, Bold, Italic, Underline, StrikeOut, ScaleX, ScaleY, Spacing, Angle, BorderStyle, Outline, Shadow, Alignment, MarginL, MarginR, MarginV, Encoding\n",
    "Style: RightMode1,Microsoft YaHei UI,{font_size},&H80FFFFFF,&H80FFFFFF,&H80000000,&H80000000,-1,0,0,0,100,100,0,0,1,1,0,2,20,20,2,0\n",
    "Style: TopMode1,Microsoft YaHei UI,{font_size},&H80FFFFFF,&H80FFFFFF,&H80000000,&H80000000,-1,0,0,0,100,100,0,0,1,1,0,2,20,20,2,0\n",
    "\n",
    "[Events]\n",
    "Format: Layer, Start, End, Style, Actor, MarginL, MarginR, MarginV, Effect, Tex\n",
    "\"\"\""
   ]
  },
  {
   "cell_type": "code",
   "execution_count": 11,
   "id": "f100788a",
   "metadata": {},
   "outputs": [
    {
     "name": "stdout",
     "output_type": "stream",
     "text": [
      "Finish\n"
     ]
    }
   ],
   "source": [
    "with open(input_file, 'r', encoding='utf-8') as infile, open(output_file, 'w', encoding='utf-8') as outfile:\n",
    "    # Process each line in the file\n",
    "    outfile.write(header_ass)\n",
    "    dialogue_counter = 0\n",
    "    for line in infile:\n",
    "        # Skip lines without a ']'\n",
    "        if ']' not in line:\n",
    "            continue\n",
    "\n",
    "        parts = [\"\"] * 10\n",
    "        \n",
    "        parts[0] = \"Dialogue: 0\"\n",
    "            \n",
    "        # Split the line into timestamp and content\n",
    "        timestamp, content = line.split(']', 1)\n",
    "\n",
    "        # Remove the leading '[' from the timestamp\n",
    "        timestamp = timestamp[1:]\n",
    "\n",
    "        # Convert the timestamp to a timedelta object\n",
    "        timestamp_start = datetime.strptime(timestamp, \"%H:%M:%S.%f\")\n",
    "        timestamp_end = timestamp_start + timedelta(seconds=15)\n",
    "        \n",
    "        # Set the start and end time\n",
    "        parts[1] = timestamp_start.strftime(\"%H:%M:%S.%f\")[:-3]\n",
    "        parts[2] = timestamp_end.strftime(\"%H:%M:%S.%f\")[:-3]\n",
    "        \n",
    "        # Change the Style value\n",
    "        parts[3] = \"RightMode1\"\n",
    "        \n",
    "        # Change the MarginL, MarginR, MarginV values\n",
    "        parts[5] = \"20\"\n",
    "        parts[6] = \"20\"\n",
    "        parts[7] = \"2\"\n",
    "       \n",
    "        # Change the Text value\n",
    "        x1 = random.randint(1920, 2100)\n",
    "        x2 = random.randint(-150, -20)\n",
    "        y = font_size * ((dialogue_counter % 20) + 1)  # y value cycles from 30 to 600 and then repeats\n",
    "        if len(content.split('\\t')) > 1:\n",
    "            parts[9] = \"{\\\\move(%d,%d,%d,%d)}%s\" % (x1, y, x2, y, content.split('\\t')[1])\n",
    "        else:\n",
    "            continue\n",
    "        \n",
    "        # Recombine the line\n",
    "        line = ','.join(parts)\n",
    "\n",
    "        # Increment the dialogue counter\n",
    "        dialogue_counter += 1\n",
    "    \n",
    "        # Output in the format '[total_minutes:total_seconds.%2f]'\n",
    "        outfile.write(line)\n",
    "    print(\"Finish\")"
   ]
  },
  {
   "cell_type": "code",
   "execution_count": null,
   "id": "e28033fe",
   "metadata": {},
   "outputs": [],
   "source": []
  }
 ],
 "metadata": {
  "kernelspec": {
   "display_name": "Python 3 (ipykernel)",
   "language": "python",
   "name": "python3"
  },
  "language_info": {
   "codemirror_mode": {
    "name": "ipython",
    "version": 3
   },
   "file_extension": ".py",
   "mimetype": "text/x-python",
   "name": "python",
   "nbconvert_exporter": "python",
   "pygments_lexer": "ipython3",
   "version": "3.10.9"
  }
 },
 "nbformat": 4,
 "nbformat_minor": 5
}
